{
  "nbformat": 4,
  "nbformat_minor": 0,
  "metadata": {
    "colab": {
      "provenance": [],
      "authorship_tag": "ABX9TyNMFwkjBMs6KQvwH1L9ZGEP",
      "include_colab_link": true
    },
    "kernelspec": {
      "name": "python3",
      "display_name": "Python 3"
    },
    "language_info": {
      "name": "python"
    }
  },
  "cells": [
    {
      "cell_type": "markdown",
      "metadata": {
        "id": "view-in-github",
        "colab_type": "text"
      },
      "source": [
        "<a href=\"https://colab.research.google.com/github/RicAntonio/Pepsico_Data/blob/main/Pepsico_Daily_Data.ipynb\" target=\"_parent\"><img src=\"https://colab.research.google.com/assets/colab-badge.svg\" alt=\"Open In Colab\"/></a>"
      ]
    },
    {
      "cell_type": "markdown",
      "source": [
        "PEPSICO DAILY DATA\n",
        "\n",
        "Predecir el dia que las acciones suben o bajan"
      ],
      "metadata": {
        "id": "m4TBFnK08zI2"
      }
    },
    {
      "cell_type": "code",
      "source": [
        "# Instalar cualquier librería adicional si es necesario (normalmente las librerías comunes ya están instaladas)\n",
        "# !pip install some_library\n",
        "\n",
        "# Montar Google Drive si necesitas guardar o cargar archivos desde allí\n",
        "from google.colab import drive\n",
        "drive.mount('/content/drive' , force_remount=True)\n",
        "\n",
        "# Si el dataset está en Google Drive, puedes accederlo con algo como:\n",
        "data_filepath = '/content/drive/MyDrive/pepsico_daily_data.csv'\n",
        "\n",
        "# Definir rutas de archivo\n",
        "base_path = '/content/drive/My Drive/Pepsico_Project/'\n",
        "features_file = base_path + 'pepsico_features.csv'\n",
        "target_file = base_path + 'pepsico_target.csv'\n",
        "model_file = base_path + 'pepsico_model.pkl'\n",
        "prediction_file = base_path + 'pepsico_prediction.csv'\n"
      ],
      "metadata": {
        "colab": {
          "base_uri": "https://localhost:8080/"
        },
        "id": "22819YcO85a2",
        "outputId": "31265d22-9a05-4758-aa36-8f276148d744"
      },
      "execution_count": null,
      "outputs": [
        {
          "output_type": "stream",
          "name": "stdout",
          "text": [
            "Mounted at /content/drive\n"
          ]
        }
      ]
    },
    {
      "cell_type": "code",
      "source": [
        "import pandas as pd\n",
        "\n",
        "# Cargar datos diarios de Pepsico desde Google Drive\n",
        "data = pd.read_csv(base_path + 'pepsico_daily_data.csv')\n",
        "\n",
        "# Generar características adicionales\n",
        "data['Moving_Avg_5'] = data['Close'].rolling(window=5).mean()\n",
        "data['Moving_Avg_10'] = data['Close'].rolling(window=10).mean()\n",
        "data['Volatility'] = data['Close'].rolling(window=10).std()\n",
        "\n",
        "# Crear la etiqueta (1 si el precio sube, 0 si baja)\n",
        "data['Target'] = (data['Close'].shift(-1) > data['Close']).astype(int)\n",
        "\n",
        "# Eliminar filas con valores NaN generados por las medias móviles\n",
        "data = data.dropna()\n",
        "\n",
        "# Guardar características y etiquetas en Google Drive\n",
        "features = data[['Moving_Avg_5', 'Moving_Avg_10', 'Volatility']]\n",
        "target = data['Target']\n",
        "features.to_csv(features_file, index=False)\n",
        "target.to_csv(target_file, index=False)\n"
      ],
      "metadata": {
        "id": "EISws5zv_yG8"
      },
      "execution_count": null,
      "outputs": []
    },
    {
      "cell_type": "code",
      "source": [
        "import pandas as pd\n",
        "from sklearn.model_selection import train_test_split\n",
        "from sklearn.ensemble import RandomForestClassifier\n",
        "import pickle\n",
        "\n",
        "\n",
        "# Cargar características y etiquetas desde Google Drive\n",
        "X = pd.read_csv(features_file)\n",
        "y = pd.read_csv(target_file)\n",
        "\n",
        "# Dividir los datos en entrenamiento y prueba\n",
        "X_train, X_test, y_train, y_test = train_test_split(X, y, test_size=0.2, random_state=42, stratify=y)\n",
        "\n",
        "# Entrenar un modelo de clasificación\n",
        "model = RandomForestClassifier(n_estimators=100, random_state=42)\n",
        "model.fit(X_train, y_train)\n",
        "\n",
        "# Guardar el modelo entrenado en Google Drive\n",
        "with open(model_file, 'wb') as model_pkl:\n",
        "    pickle.dump(model, model_pkl)\n"
      ],
      "metadata": {
        "colab": {
          "base_uri": "https://localhost:8080/"
        },
        "id": "_vrg-eXoBjy3",
        "outputId": "0cdc2ec6-109e-4856-c818-a2f31c2bbf0f"
      },
      "execution_count": null,
      "outputs": [
        {
          "output_type": "stream",
          "name": "stderr",
          "text": [
            "/usr/local/lib/python3.10/dist-packages/sklearn/base.py:1152: DataConversionWarning: A column-vector y was passed when a 1d array was expected. Please change the shape of y to (n_samples,), for example using ravel().\n",
            "  return fit_method(estimator, *args, **kwargs)\n"
          ]
        }
      ]
    },
    {
      "cell_type": "code",
      "source": [
        "import pandas as pd\n",
        "import pickle\n",
        "\n",
        "# Cargar el modelo entrenado desde Google Drive\n",
        "with open(model_file, 'rb') as model_pkl:\n",
        "    model = pickle.load(model_pkl)\n",
        "\n",
        "# Cargar las características más recientes desde Google Drive\n",
        "X_new = pd.read_csv(features_file).iloc[-1:]  # Solo las últimas características\n",
        "\n",
        "# Generar predicciones\n",
        "prediction = model.predict(X_new)\n",
        "\n",
        "# Guardar la predicción en Google Drive\n",
        "pd.DataFrame({'Prediction': prediction}).to_csv(prediction_file, index=False)\n"
      ],
      "metadata": {
        "id": "tSIY-YaEB0Gq"
      },
      "execution_count": null,
      "outputs": []
    }
  ]
}